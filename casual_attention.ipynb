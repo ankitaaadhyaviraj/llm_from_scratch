{
 "cells": [
  {
   "cell_type": "code",
   "execution_count": 2,
   "id": "e88dd540",
   "metadata": {},
   "outputs": [],
   "source": [
    "import torch\n",
    "import torch.nn as nn\n",
    "def softmax_native(input):\n",
    "    max_val = torch.max(input)\n",
    "    val = input - max_val\n",
    "    val = torch.exp(val)\n",
    "    val = val/torch.sum(val)\n",
    "    return val\n",
    "\n",
    "class Simple_Attention(nn.Module):\n",
    "    def __init__(self, d_x, d_y, qkv_bias=False):\n",
    "        super().__init__()\n",
    "        self.q_w = nn.Linear(d_x, d_y, bias=qkv_bias)\n",
    "        self.k_w = nn.Linear(d_x, d_y, bias=qkv_bias)\n",
    "        self.v_w = nn.Linear(d_x, d_y, bias=qkv_bias)\n",
    "    \n",
    "    def forward(self, token_input):\n",
    "        q_w = self.q_w(token_input)\n",
    "        k_w = self.k_w(token_input)\n",
    "        v_w = self.v_w(token_input)\n",
    "        attention_weight = q_w @ k_w.T\n",
    "        attention_score = torch.softmax(attention_weight/k_w.shape[-1]**2, dim=-1)\n",
    "        context_vectors = attention_score @ v_w\n",
    "        return context_vectors\n",
    "\n"
   ]
  },
  {
   "cell_type": "code",
   "execution_count": 3,
   "id": "0e091c3e",
   "metadata": {},
   "outputs": [],
   "source": [
    "inputs = torch.tensor(\n",
    "  [[0.43, 0.15, 0.89], # Your     (x^1)\n",
    "   [0.55, 0.87, 0.66], # journey  (x^2)\n",
    "   [0.57, 0.85, 0.64], # starts   (x^3)\n",
    "   [0.22, 0.58, 0.33], # with     (x^4)\n",
    "   [0.77, 0.25, 0.10], # one      (x^5)\n",
    "   [0.05, 0.80, 0.55]] # step     (x^6)\n",
    ")\n",
    "d_x = inputs.shape[1]\n",
    "d_y = 2"
   ]
  },
  {
   "cell_type": "code",
   "execution_count": 19,
   "id": "e61a6429",
   "metadata": {},
   "outputs": [
    {
     "name": "stdout",
     "output_type": "stream",
     "text": [
      "tensor([[-0.0760,  0.0682],\n",
      "        [-0.0763,  0.0679],\n",
      "        [-0.0763,  0.0679],\n",
      "        [-0.0767,  0.0672],\n",
      "        [-0.0769,  0.0670],\n",
      "        [-0.0765,  0.0675]], grad_fn=<MmBackward0>)\n"
     ]
    }
   ],
   "source": [
    "torch.manual_seed(789)\n",
    "simple_attention = Simple_Attention(d_x, d_y)\n",
    "context_vectors = simple_attention(inputs)\n",
    "print(context_vectors)"
   ]
  },
  {
   "cell_type": "markdown",
   "id": "57fc5aaa",
   "metadata": {},
   "source": [
    "casual attention mask also called masked self attention tokens attend self and tokens came before it."
   ]
  },
  {
   "cell_type": "code",
   "execution_count": 6,
   "id": "f690fa5f",
   "metadata": {},
   "outputs": [],
   "source": [
    "batch = torch.stack([inputs,inputs],dim=0)\n"
   ]
  },
  {
   "cell_type": "code",
   "execution_count": null,
   "id": "6e5cc16b",
   "metadata": {},
   "outputs": [],
   "source": [
    "class Casual_Attention(nn.Module):\n",
    "\n",
    "    def __init__(self, d_x, d_y, context_lenght, drop_out = True, qkv_bias = False):\n",
    "        super().__init__()\n",
    "        self.d_x = d_x\n",
    "        self.d_y = d_y\n",
    "        self.q_w = nn.Linear(d_x, d_y, bias = qkv_bias)\n",
    "        self.k_w = nn.Linear(d_x, d_y, bias = qkv_bias)\n",
    "        self.v_w = nn.Linear(d_x, d_y, bias = qkv_bias)\n",
    "        self.drop_out = nn.Dropout(drop_out)\n",
    "        self.register_buffer('mask',torch.triu(torch.ones(context_lenght, context_lenght),1))\n",
    "\n",
    "    def forward(self, tokens):\n",
    "        b, token_count, vec_len = batch.shape\n",
    "        q_w = self.q_w(tokens)\n",
    "        k_w = self.k_w(tokens)\n",
    "        v_w = self.v_w(tokens)\n",
    "        attension_score = q_w @ k_w.transpose(1,2)\n",
    "        attension_score.masked_fill_(self.mask.bool()[:token_count, :token_count], -torch.inf)\n",
    "        attension_weight = torch.softmax(attension_score/k_w.shape[-1]**2, dim=-1)\n",
    "        # need to check why drop out not working\n",
    "        # attension_weight = self.drop_out(attension_weight)\n",
    "        context_vectors = attension_weight @ v_w\n",
    "        return context_vectors\n",
    "\n",
    "\n"
   ]
  },
  {
   "cell_type": "code",
   "execution_count": 20,
   "id": "a53a0591",
   "metadata": {},
   "outputs": [
    {
     "name": "stdout",
     "output_type": "stream",
     "text": [
      "tensor([[[-0.4519,  0.2216],\n",
      "         [-0.5846,  0.0103],\n",
      "         [-0.6276, -0.0593],\n",
      "         [-0.5658, -0.0827],\n",
      "         [-0.5504, -0.0976],\n",
      "         [-0.5286, -0.1068]],\n",
      "\n",
      "        [[-0.4519,  0.2216],\n",
      "         [-0.5846,  0.0103],\n",
      "         [-0.6276, -0.0593],\n",
      "         [-0.5658, -0.0827],\n",
      "         [-0.5504, -0.0976],\n",
      "         [-0.5286, -0.1068]]], grad_fn=<UnsafeViewBackward0>)\n"
     ]
    }
   ],
   "source": [
    "torch.manual_seed(123)\n",
    "context_len = batch.shape[1]\n",
    "cas_att = Casual_Attention(d_x, d_y, context_len)\n",
    "context_vectors = cas_att(batch)\n",
    "# print(context_vectors)\n",
    "print(context_vectors)\n"
   ]
  }
 ],
 "metadata": {
  "kernelspec": {
   "display_name": "base",
   "language": "python",
   "name": "python3"
  },
  "language_info": {
   "codemirror_mode": {
    "name": "ipython",
    "version": 3
   },
   "file_extension": ".py",
   "mimetype": "text/x-python",
   "name": "python",
   "nbconvert_exporter": "python",
   "pygments_lexer": "ipython3",
   "version": "3.11.7"
  }
 },
 "nbformat": 4,
 "nbformat_minor": 5
}
