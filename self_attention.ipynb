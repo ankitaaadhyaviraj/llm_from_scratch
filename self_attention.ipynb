{
 "cells": [
  {
   "cell_type": "code",
   "execution_count": 13,
   "id": "e88dd540",
   "metadata": {},
   "outputs": [],
   "source": [
    "import torch\n",
    "import torch.nn as nn\n",
    "def softmax_native(input):\n",
    "    max_val = torch.max(input)\n",
    "    val = input - max_val\n",
    "    val = torch.exp(val)\n",
    "    val = val/torch.sum(val)\n",
    "    return val\n",
    "\n",
    "class Simple_Attention(nn.Module):\n",
    "    def __init__(self, d_x, d_y, qkv_bias=False):\n",
    "        super().__init__()\n",
    "        self.q_w = nn.Linear(d_x, d_y, bias=qkv_bias)\n",
    "        self.k_w = nn.Linear(d_x, d_y, bias=qkv_bias)\n",
    "        self.v_w = nn.Linear(d_x, d_y, bias=qkv_bias)\n",
    "    \n",
    "    def forward(self, token_input):\n",
    "        q_w = self.q_w(token_input)\n",
    "        k_w = self.k_w(token_input)\n",
    "        v_w = self.v_w(token_input)\n",
    "        attention_weight = q_w @ k_w.T\n",
    "        attention_score = torch.softmax(attention_weight/k_w.shape[-1]**2, dim=-1)\n",
    "        context_vectors = attention_score @ v_w\n",
    "        return context_vectors\n",
    "\n"
   ]
  },
  {
   "cell_type": "code",
   "execution_count": 14,
   "id": "0e091c3e",
   "metadata": {},
   "outputs": [],
   "source": [
    "inputs = torch.tensor(\n",
    "  [[0.43, 0.15, 0.89], # Your     (x^1)\n",
    "   [0.55, 0.87, 0.66], # journey  (x^2)\n",
    "   [0.57, 0.85, 0.64], # starts   (x^3)\n",
    "   [0.22, 0.58, 0.33], # with     (x^4)\n",
    "   [0.77, 0.25, 0.10], # one      (x^5)\n",
    "   [0.05, 0.80, 0.55]] # step     (x^6)\n",
    ")\n",
    "d_x = inputs.shape[1]\n",
    "d_y = 2"
   ]
  },
  {
   "cell_type": "code",
   "execution_count": 19,
   "id": "e61a6429",
   "metadata": {},
   "outputs": [
    {
     "name": "stdout",
     "output_type": "stream",
     "text": [
      "tensor([[-0.0760,  0.0682],\n",
      "        [-0.0763,  0.0679],\n",
      "        [-0.0763,  0.0679],\n",
      "        [-0.0767,  0.0672],\n",
      "        [-0.0769,  0.0670],\n",
      "        [-0.0765,  0.0675]], grad_fn=<MmBackward0>)\n"
     ]
    }
   ],
   "source": [
    "torch.manual_seed(789)\n",
    "simple_attention = Simple_Attention(d_x, d_y)\n",
    "context_vectors = simple_attention(inputs)\n",
    "print(context_vectors)"
   ]
  }
 ],
 "metadata": {
  "kernelspec": {
   "display_name": "base",
   "language": "python",
   "name": "python3"
  },
  "language_info": {
   "codemirror_mode": {
    "name": "ipython",
    "version": 3
   },
   "file_extension": ".py",
   "mimetype": "text/x-python",
   "name": "python",
   "nbconvert_exporter": "python",
   "pygments_lexer": "ipython3",
   "version": "3.11.7"
  }
 },
 "nbformat": 4,
 "nbformat_minor": 5
}
